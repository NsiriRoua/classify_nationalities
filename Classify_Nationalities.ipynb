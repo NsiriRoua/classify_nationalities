{
  "nbformat": 4,
  "nbformat_minor": 0,
  "metadata": {
    "colab": {
      "name": "Classify Nationalities",
      "provenance": [],
      "mount_file_id": "1b20shlm_1MXl_UNEgaJtUMY6FKHmL-Gc",
      "authorship_tag": "ABX9TyNjFf5aPF8fnERokn93Qkg+",
      "include_colab_link": true
    },
    "kernelspec": {
      "name": "python3",
      "display_name": "Python 3"
    },
    "language_info": {
      "name": "python"
    }
  },
  "cells": [
    {
      "cell_type": "markdown",
      "metadata": {
        "id": "view-in-github",
        "colab_type": "text"
      },
      "source": [
        "<a href=\"https://colab.research.google.com/github/NsiriRoua/classify_nationalities/blob/main/Classify_Nationalities.ipynb\" target=\"_parent\"><img src=\"https://colab.research.google.com/assets/colab-badge.svg\" alt=\"Open In Colab\"/></a>"
      ]
    },
    {
      "cell_type": "code",
      "metadata": {
        "id": "xIB5GSwieNEo"
      },
      "source": [
        "from tensorflow import keras\n",
        "import tensorflow as tf\n",
        "import pandas as pd\n",
        "import os\n",
        "import re"
      ],
      "execution_count": null,
      "outputs": []
    },
    {
      "cell_type": "code",
      "metadata": {
        "colab": {
          "base_uri": "https://localhost:8080/"
        },
        "id": "WUwQFehvf-bC",
        "outputId": "880b713a-157f-43ea-b6da-2893d3960c4f"
      },
      "source": [
        "!unrar x '/content/drive/MyDrive/Colab NoQtebooks/Male-female data (1).rar'"
      ],
      "execution_count": null,
      "outputs": [
        {
          "output_type": "stream",
          "text": [
            "\n",
            "UNRAR 5.50 freeware      Copyright (c) 1993-2017 Alexander Roshal\n",
            "\n",
            "\n",
            "Extracting from /content/drive/MyDrive/Colab Notebooks/Male-female data (1).rar\n",
            "\n",
            "\n",
            "Would you like to replace the existing file Indian-Male-Names.csv\n",
            "297859 bytes, modified on 2019-10-10 08:52\n",
            "with a new one\n",
            "297859 bytes, modified on 2019-10-10 08:52\n",
            "\n",
            "[Y]es, [N]o, [A]ll, n[E]ver, [R]ename, [Q]uit Q\n",
            "\n",
            "Program aborted\n"
          ],
          "name": "stdout"
        }
      ]
    },
    {
      "cell_type": "code",
      "metadata": {
        "id": "Cbg1NwjcgEPW"
      },
      "source": [
        "male_names=pd.read_csv('Indian-Male-Names.csv')\n",
        "female_names=pd.read_csv('Indian-Female-Names.csv')"
      ],
      "execution_count": null,
      "outputs": []
    },
    {
      "cell_type": "code",
      "metadata": {
        "colab": {
          "base_uri": "https://localhost:8080/",
          "height": 198
        },
        "id": "AP44rwZEiKy1",
        "outputId": "b8f31d77-60e9-4e94-c6fb-5bb41095f86b"
      },
      "source": [
        "male_names.head()"
      ],
      "execution_count": null,
      "outputs": [
        {
          "output_type": "execute_result",
          "data": {
            "text/html": [
              "<div>\n",
              "<style scoped>\n",
              "    .dataframe tbody tr th:only-of-type {\n",
              "        vertical-align: middle;\n",
              "    }\n",
              "\n",
              "    .dataframe tbody tr th {\n",
              "        vertical-align: top;\n",
              "    }\n",
              "\n",
              "    .dataframe thead th {\n",
              "        text-align: right;\n",
              "    }\n",
              "</style>\n",
              "<table border=\"1\" class=\"dataframe\">\n",
              "  <thead>\n",
              "    <tr style=\"text-align: right;\">\n",
              "      <th></th>\n",
              "      <th>name</th>\n",
              "      <th>gender</th>\n",
              "      <th>race</th>\n",
              "    </tr>\n",
              "  </thead>\n",
              "  <tbody>\n",
              "    <tr>\n",
              "      <th>0</th>\n",
              "      <td>barjraj</td>\n",
              "      <td>m</td>\n",
              "      <td>indian</td>\n",
              "    </tr>\n",
              "    <tr>\n",
              "      <th>1</th>\n",
              "      <td>ramdin verma</td>\n",
              "      <td>m</td>\n",
              "      <td>indian</td>\n",
              "    </tr>\n",
              "    <tr>\n",
              "      <th>2</th>\n",
              "      <td>sharat chandran</td>\n",
              "      <td>m</td>\n",
              "      <td>indian</td>\n",
              "    </tr>\n",
              "    <tr>\n",
              "      <th>3</th>\n",
              "      <td>birender mandal</td>\n",
              "      <td>m</td>\n",
              "      <td>indian</td>\n",
              "    </tr>\n",
              "    <tr>\n",
              "      <th>4</th>\n",
              "      <td>amit</td>\n",
              "      <td>m</td>\n",
              "      <td>indian</td>\n",
              "    </tr>\n",
              "  </tbody>\n",
              "</table>\n",
              "</div>"
            ],
            "text/plain": [
              "              name gender    race\n",
              "0          barjraj      m  indian\n",
              "1     ramdin verma      m  indian\n",
              "2  sharat chandran      m  indian\n",
              "3  birender mandal      m  indian\n",
              "4             amit      m  indian"
            ]
          },
          "metadata": {
            "tags": []
          },
          "execution_count": 41
        }
      ]
    },
    {
      "cell_type": "code",
      "metadata": {
        "colab": {
          "base_uri": "https://localhost:8080/",
          "height": 198
        },
        "id": "2vEytUxriRYP",
        "outputId": "69ae1bd2-698c-4078-c53b-e078c84467f5"
      },
      "source": [
        "female_names.head()"
      ],
      "execution_count": null,
      "outputs": [
        {
          "output_type": "execute_result",
          "data": {
            "text/html": [
              "<div>\n",
              "<style scoped>\n",
              "    .dataframe tbody tr th:only-of-type {\n",
              "        vertical-align: middle;\n",
              "    }\n",
              "\n",
              "    .dataframe tbody tr th {\n",
              "        vertical-align: top;\n",
              "    }\n",
              "\n",
              "    .dataframe thead th {\n",
              "        text-align: right;\n",
              "    }\n",
              "</style>\n",
              "<table border=\"1\" class=\"dataframe\">\n",
              "  <thead>\n",
              "    <tr style=\"text-align: right;\">\n",
              "      <th></th>\n",
              "      <th>name</th>\n",
              "      <th>gender</th>\n",
              "      <th>race</th>\n",
              "    </tr>\n",
              "  </thead>\n",
              "  <tbody>\n",
              "    <tr>\n",
              "      <th>0</th>\n",
              "      <td>shivani</td>\n",
              "      <td>f</td>\n",
              "      <td>indian</td>\n",
              "    </tr>\n",
              "    <tr>\n",
              "      <th>1</th>\n",
              "      <td>isha</td>\n",
              "      <td>f</td>\n",
              "      <td>indian</td>\n",
              "    </tr>\n",
              "    <tr>\n",
              "      <th>2</th>\n",
              "      <td>smt shyani devi</td>\n",
              "      <td>f</td>\n",
              "      <td>indian</td>\n",
              "    </tr>\n",
              "    <tr>\n",
              "      <th>3</th>\n",
              "      <td>divya</td>\n",
              "      <td>f</td>\n",
              "      <td>indian</td>\n",
              "    </tr>\n",
              "    <tr>\n",
              "      <th>4</th>\n",
              "      <td>mansi</td>\n",
              "      <td>f</td>\n",
              "      <td>indian</td>\n",
              "    </tr>\n",
              "  </tbody>\n",
              "</table>\n",
              "</div>"
            ],
            "text/plain": [
              "              name gender    race\n",
              "0          shivani      f  indian\n",
              "1             isha      f  indian\n",
              "2  smt shyani devi      f  indian\n",
              "3            divya      f  indian\n",
              "4            mansi      f  indian"
            ]
          },
          "metadata": {
            "tags": []
          },
          "execution_count": 42
        }
      ]
    },
    {
      "cell_type": "markdown",
      "metadata": {
        "id": "dX9Dq5wXiZ7Y"
      },
      "source": [
        "# **Let's clean our data**"
      ]
    },
    {
      "cell_type": "code",
      "metadata": {
        "id": "RvclENRliYSF"
      },
      "source": [
        "list_to_clean=['s/o','d/o','w/o','/','&',',','-']\n",
        "def clean_data(name):\n",
        "\tname = str(name).lower()\n",
        "\tname = (''.join(i for i in name if ord(i)<128)).strip()\n",
        "\tfor repl in list_to_clean:\n",
        "\t\tname = name.replace(repl,\" \")\n",
        "\tif '@' in name:\n",
        "\t\tpos = name.find('@')\n",
        "\t\tname = name[:pos].strip()\n",
        "\tname = name.split(\" \")\n",
        "\tname = \" \".join([each.strip() for each in name])\n",
        "\treturn name\n",
        "\n",
        "\n"
      ],
      "execution_count": null,
      "outputs": []
    },
    {
      "cell_type": "code",
      "metadata": {
        "colab": {
          "base_uri": "https://localhost:8080/"
        },
        "id": "e4V7qNAslHQj",
        "outputId": "0102cbe0-1616-4d8f-fb67-050e6f0fbe81"
      },
      "source": [
        "#Let's see an example\n",
        "p='Rou@'\n",
        "name =clean_data(p)\n",
        "print(name)"
      ],
      "execution_count": null,
      "outputs": [
        {
          "output_type": "stream",
          "text": [
            "rou\n"
          ],
          "name": "stdout"
        }
      ]
    },
    {
      "cell_type": "code",
      "metadata": {
        "id": "pCOJpCfamRH3"
      },
      "source": [
        "def remove_records(merged_data):\n",
        "\tmerged_data['delete'] = 0\n",
        "\tmerged_data.loc[merged_data['name'].str.find('with') != -1,'delete'] = 1\t\n",
        "\tmerged_data.loc[merged_data['count_words']>=5,'delete']=1\n",
        "\tmerged_data.loc[merged_data['count_words']==0,'delete']=1\n",
        "\tmerged_data.loc[merged_data['name'].str.contains(r'\\d') == True,'delete']=1\n",
        "\tcleaned_data = merged_data[merged_data.delete==0]\n",
        "\treturn cleaned_data"
      ],
      "execution_count": null,
      "outputs": []
    },
    {
      "cell_type": "code",
      "metadata": {
        "id": "h6Qr0a6b1ue4"
      },
      "source": [
        "merged_data=pd.concat((female_names,male_names),axis=0)\n",
        "merged_data['name'] = merged_data['name'].apply(clean_data)\n",
        "merged_data['count_words'] = merged_data['name'].str.split().apply(len)"
      ],
      "execution_count": null,
      "outputs": []
    },
    {
      "cell_type": "code",
      "metadata": {
        "colab": {
          "base_uri": "https://localhost:8080/"
        },
        "id": "sV1DjNW82P1t",
        "outputId": "057a5acf-74a5-4a5a-aa9d-128729cdc217"
      },
      "source": [
        "cleaned_data=remove_records(merged_data)\n",
        "cleaned_data.head"
      ],
      "execution_count": null,
      "outputs": [
        {
          "output_type": "execute_result",
          "data": {
            "text/plain": [
              "<bound method NDFrame.head of                       name gender    race  count_words  delete\n",
              "0                  shivani      f  indian            1       0\n",
              "1                     isha      f  indian            1       0\n",
              "2          smt shyani devi      f  indian            3       0\n",
              "3                    divya      f  indian            1       0\n",
              "4                    mansi      f  indian            1       0\n",
              "...                    ...    ...     ...          ...     ...\n",
              "14840               buddha      m  indian            1       0\n",
              "14841               mukesh      m  indian            1       0\n",
              "14842                 monu      m  indian            1       0\n",
              "14843  govind prasad shahu      m  indian            3       0\n",
              "14844               deepak      m  indian            1       0\n",
              "\n",
              "[29868 rows x 5 columns]>"
            ]
          },
          "metadata": {
            "tags": []
          },
          "execution_count": 47
        }
      ]
    },
    {
      "cell_type": "code",
      "metadata": {
        "colab": {
          "base_uri": "https://localhost:8080/"
        },
        "id": "BWl7aKFH3CHs",
        "outputId": "7c72373b-a70b-4bd6-fae8-42a45464d6e0"
      },
      "source": [
        "indian_cleaned_data = cleaned_data[['name','count_words']].drop_duplicates(subset='name',keep='first')\n",
        "indian_cleaned_data['label'] = 'indian'\n",
        "len(indian_cleaned_data)"
      ],
      "execution_count": null,
      "outputs": [
        {
          "output_type": "execute_result",
          "data": {
            "text/plain": [
              "13754"
            ]
          },
          "metadata": {
            "tags": []
          },
          "execution_count": 48
        }
      ]
    },
    {
      "cell_type": "code",
      "metadata": {
        "colab": {
          "base_uri": "https://localhost:8080/"
        },
        "id": "8YMSI9gX3qlb",
        "outputId": "b6a49878-f9f3-451a-d068-f5eab35d54f2"
      },
      "source": [
        "pip install Faker"
      ],
      "execution_count": null,
      "outputs": [
        {
          "output_type": "stream",
          "text": [
            "Collecting Faker\n",
            "\u001b[?25l  Downloading https://files.pythonhosted.org/packages/48/36/47ad2bd50e4d4cd7b293f63ebe9bf29f7c7921af1f478a3f80d01f37f45b/Faker-6.6.3-py3-none-any.whl (1.2MB)\n",
            "\u001b[K     |████████████████████████████████| 1.2MB 4.5MB/s \n",
            "\u001b[?25hRequirement already satisfied: python-dateutil>=2.4 in /usr/local/lib/python3.7/dist-packages (from Faker) (2.8.1)\n",
            "Requirement already satisfied: text-unidecode==1.3 in /usr/local/lib/python3.7/dist-packages (from Faker) (1.3)\n",
            "Requirement already satisfied: six>=1.5 in /usr/local/lib/python3.7/dist-packages (from python-dateutil>=2.4->Faker) (1.15.0)\n",
            "Installing collected packages: Faker\n",
            "Successfully installed Faker-6.6.3\n"
          ],
          "name": "stdout"
        }
      ]
    },
    {
      "cell_type": "code",
      "metadata": {
        "colab": {
          "base_uri": "https://localhost:8080/",
          "height": 35
        },
        "id": "Te-a3_Fl3mGS",
        "outputId": "09e97d41-8902-403d-c5af-7c19be95bdd6"
      },
      "source": [
        "from faker import Faker\n",
        "fake=Faker('en_US')\n",
        "fake.name()"
      ],
      "execution_count": null,
      "outputs": [
        {
          "output_type": "execute_result",
          "data": {
            "application/vnd.google.colaboratory.intrinsic+json": {
              "type": "string"
            },
            "text/plain": [
              "'Dominic Berry'"
            ]
          },
          "metadata": {
            "tags": []
          },
          "execution_count": 49
        }
      ]
    },
    {
      "cell_type": "code",
      "metadata": {
        "colab": {
          "base_uri": "https://localhost:8080/",
          "height": 198
        },
        "id": "6_F0Jnw34Az9",
        "outputId": "0a23a345-eece-4322-e2ec-078c699e433d"
      },
      "source": [
        "profiles=[fake.name() for i in range(13754)]\n",
        "non_indian_data=pd.DataFrame(profiles)\n",
        "non_indian_data.head()"
      ],
      "execution_count": null,
      "outputs": [
        {
          "output_type": "execute_result",
          "data": {
            "text/html": [
              "<div>\n",
              "<style scoped>\n",
              "    .dataframe tbody tr th:only-of-type {\n",
              "        vertical-align: middle;\n",
              "    }\n",
              "\n",
              "    .dataframe tbody tr th {\n",
              "        vertical-align: top;\n",
              "    }\n",
              "\n",
              "    .dataframe thead th {\n",
              "        text-align: right;\n",
              "    }\n",
              "</style>\n",
              "<table border=\"1\" class=\"dataframe\">\n",
              "  <thead>\n",
              "    <tr style=\"text-align: right;\">\n",
              "      <th></th>\n",
              "      <th>0</th>\n",
              "    </tr>\n",
              "  </thead>\n",
              "  <tbody>\n",
              "    <tr>\n",
              "      <th>0</th>\n",
              "      <td>Umberto Morrocco</td>\n",
              "    </tr>\n",
              "    <tr>\n",
              "      <th>1</th>\n",
              "      <td>Gesche Hornig MBA.</td>\n",
              "    </tr>\n",
              "    <tr>\n",
              "      <th>2</th>\n",
              "      <td>Bert Drubin</td>\n",
              "    </tr>\n",
              "    <tr>\n",
              "      <th>3</th>\n",
              "      <td>Hubert Zobel B.Eng.</td>\n",
              "    </tr>\n",
              "    <tr>\n",
              "      <th>4</th>\n",
              "      <td>石川 あすか</td>\n",
              "    </tr>\n",
              "  </tbody>\n",
              "</table>\n",
              "</div>"
            ],
            "text/plain": [
              "                     0\n",
              "0     Umberto Morrocco\n",
              "1   Gesche Hornig MBA.\n",
              "2          Bert Drubin\n",
              "3  Hubert Zobel B.Eng.\n",
              "4               石川 あすか"
            ]
          },
          "metadata": {
            "tags": []
          },
          "execution_count": 59
        }
      ]
    },
    {
      "cell_type": "code",
      "metadata": {
        "colab": {
          "base_uri": "https://localhost:8080/"
        },
        "id": "ZquXCo-Gf0DO",
        "outputId": "a7be2a70-c494-478c-932e-01b4a702b7b6"
      },
      "source": [
        "len(non_indian_data)"
      ],
      "execution_count": null,
      "outputs": [
        {
          "output_type": "execute_result",
          "data": {
            "text/plain": [
              "13754"
            ]
          },
          "metadata": {
            "tags": []
          },
          "execution_count": 56
        }
      ]
    },
    {
      "cell_type": "code",
      "metadata": {
        "id": "M5rSfpoMguGc"
      },
      "source": [
        "non_indian_data['name'] = non_indian_data['name'].apply(clean_data)\n",
        "non_indian_data['count_words'] =non_indian_data['name'].str.split().apply(len)\n"
      ],
      "execution_count": null,
      "outputs": []
    },
    {
      "cell_type": "code",
      "metadata": {
        "colab": {
          "base_uri": "https://localhost:8080/"
        },
        "id": "o_uH6I4yhkdS",
        "outputId": "fa119961-99bd-45bd-ecb1-3aff66d7a13d"
      },
      "source": [
        "non_indian_data=remove_records(non_indian_data)\n",
        "non_indian_data = non_indian_data[['name','count_words']].drop_duplicates(subset='name',keep='first')\n",
        "non_indian_data.head"
      ],
      "execution_count": null,
      "outputs": [
        {
          "output_type": "stream",
          "text": [
            "/usr/local/lib/python3.7/dist-packages/ipykernel_launcher.py:2: SettingWithCopyWarning: \n",
            "A value is trying to be set on a copy of a slice from a DataFrame.\n",
            "Try using .loc[row_indexer,col_indexer] = value instead\n",
            "\n",
            "See the caveats in the documentation: https://pandas.pydata.org/pandas-docs/stable/user_guide/indexing.html#returning-a-view-versus-a-copy\n",
            "  \n",
            "/usr/local/lib/python3.7/dist-packages/pandas/core/indexing.py:1763: SettingWithCopyWarning: \n",
            "A value is trying to be set on a copy of a slice from a DataFrame.\n",
            "Try using .loc[row_indexer,col_indexer] = value instead\n",
            "\n",
            "See the caveats in the documentation: https://pandas.pydata.org/pandas-docs/stable/user_guide/indexing.html#returning-a-view-versus-a-copy\n",
            "  isetter(loc, value)\n",
            "/usr/local/lib/python3.7/dist-packages/pandas/core/indexing.py:1763: SettingWithCopyWarning: \n",
            "A value is trying to be set on a copy of a slice from a DataFrame.\n",
            "Try using .loc[row_indexer,col_indexer] = value instead\n",
            "\n",
            "See the caveats in the documentation: https://pandas.pydata.org/pandas-docs/stable/user_guide/indexing.html#returning-a-view-versus-a-copy\n",
            "  isetter(loc, value)\n",
            "/usr/local/lib/python3.7/dist-packages/pandas/core/indexing.py:1763: SettingWithCopyWarning: \n",
            "A value is trying to be set on a copy of a slice from a DataFrame.\n",
            "Try using .loc[row_indexer,col_indexer] = value instead\n",
            "\n",
            "See the caveats in the documentation: https://pandas.pydata.org/pandas-docs/stable/user_guide/indexing.html#returning-a-view-versus-a-copy\n",
            "  isetter(loc, value)\n",
            "/usr/local/lib/python3.7/dist-packages/pandas/core/indexing.py:1763: SettingWithCopyWarning: \n",
            "A value is trying to be set on a copy of a slice from a DataFrame.\n",
            "Try using .loc[row_indexer,col_indexer] = value instead\n",
            "\n",
            "See the caveats in the documentation: https://pandas.pydata.org/pandas-docs/stable/user_guide/indexing.html#returning-a-view-versus-a-copy\n",
            "  isetter(loc, value)\n"
          ],
          "name": "stderr"
        },
        {
          "output_type": "execute_result",
          "data": {
            "text/plain": [
              "<bound method NDFrame.head of                                  name  count_words\n",
              "0                    umberto morrocco            2\n",
              "1                  gesche hornig mba.            3\n",
              "2                         bert drubin            2\n",
              "3                 hubert zobel b.eng.            3\n",
              "5                    giampaolo navone            2\n",
              "...                               ...          ...\n",
              "13746  univ.prof. mirjam znker b.eng.            4\n",
              "13749             dott. dante alfonsi            3\n",
              "13750      susanna querini modigliani            3\n",
              "13751         herr stanislaw heinrich            3\n",
              "13753      marie louise tsche wieloch            4\n",
              "\n",
              "[8097 rows x 2 columns]>"
            ]
          },
          "metadata": {
            "tags": []
          },
          "execution_count": 67
        }
      ]
    },
    {
      "cell_type": "markdown",
      "metadata": {
        "id": "Bb6liKNZiRxZ"
      },
      "source": [
        "# **Let's build a neural network**"
      ]
    },
    {
      "cell_type": "code",
      "metadata": {
        "id": "xoqh_3EPiXRV"
      },
      "source": [
        ""
      ],
      "execution_count": null,
      "outputs": []
    }
  ]
}